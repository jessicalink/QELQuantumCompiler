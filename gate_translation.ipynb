{
 "cells": [
  {
   "cell_type": "markdown",
   "metadata": {},
   "source": [
    "Definitions of basic gates"
   ]
  },
  {
   "cell_type": "code",
   "execution_count": null,
   "metadata": {},
   "outputs": [],
   "source": [
    "import numpy as np\n",
    "pi = np.pi\n",
    "\n",
    "up = np.array([1., 0.])\n",
    "down = np.array([0., 1.])\n",
    "state = np.kron(up, up)\n",
    "\n",
    "CX = np.array([[1., 0., 0., 0.,], [0., 1., 0., 0.], [0., 0., 0., 1.], [0., 0., 1., 0.]])\n",
    "I = np.eye(2)\n",
    "X = np.array([[0., 1.], [1., 0.]])\n",
    "H = 1/np.sqrt(2)*np.array([[1, 1], [1, -1]])\n",
    "CZ = np.array([[1, 0, 0, 0], [0, 1, 0, 0], [0, 0, 1, 0], [0, 0, 0, -1]])\n"
   ]
  },
  {
   "cell_type": "markdown",
   "metadata": {},
   "source": [
    "In order to transpile a circuit, the following steps must be implemented:\n",
    "1. Translate all gates into the native gateset\n",
    "2. Choose a given ordering\n",
    "    a. convert everything to swap gates\n",
    "    b. minimize the number of swap gates\n",
    "3. Find the best connectivity for this ordering\n",
    "4. Repeat to find the best ordering and connectivity for a given algorithm"
   ]
  },
  {
   "cell_type": "markdown",
   "metadata": {},
   "source": [
    "1. Translate all gates into the native gateset (here CZ, X90, Z)"
   ]
  },
  {
   "cell_type": "code",
   "execution_count": 37,
   "metadata": {},
   "outputs": [],
   "source": [
    "# testing the equivalence library for the CNOT gate\n",
    "\n",
    "from qiskit.circuit import QuantumCircuit, Parameter\n",
    "from qiskit.circuit.library import CXGate, HGate, RYGate, RXGate, SwapGate\n",
    "from qiskit.circuit.equivalence_library import EquivalenceLibrary\n",
    "import numpy as np\n",
    "pi = np.pi\n",
    "\n",
    "#done: cnot, h, ry, rz, rx\n",
    "\n",
    "\n",
    "#not done: xx, yy, zz, \n",
    "\n",
    "#to improve: swap, rx\n",
    "\n",
    "# cnot\n",
    "\n",
    "cnot = CXGate()\n",
    "\n",
    "cx_eq = QuantumCircuit(2)\n",
    "cx_eq.h(1)\n",
    "cx_eq.cz(0, 1)\n",
    "cx_eq.h(1) # I guess pass this first, then decompose the hadamard gates?\n",
    "\n",
    "eq_lib = EquivalenceLibrary()\n",
    "\n",
    "eq_lib.add_equivalence(cnot, cx_eq)\n",
    "\n",
    "# h\n",
    "h = HGate()\n",
    "\n",
    "h_eq = QuantumCircuit(1)\n",
    "h_eq.p(pi/2, 0) # not technically in our library; find additional gateset for this\n",
    "h_eq.x(0)\n",
    "h_eq.rz(pi/2, 0)\n",
    "h_eq.x(0)\n",
    "\n",
    "eq_lib.add_equivalence(h, h_eq)\n",
    "\n",
    "# y\n",
    "t = Parameter('t')\n",
    "ry = RYGate(t)\n",
    "y_eq = QuantumCircuit(1)\n",
    "y_eq.x(0)\n",
    "y_eq.rz(-t, 0)\n",
    "y_eq.x(0)\n",
    "\n",
    "eq_lib.add_equivalence(ry, y_eq)\n",
    "\n",
    "# rx (must be a better way, we end up with X*Z*X, which can probably be expressed as another gate/phase.)\n",
    "t = Parameter('t')\n",
    "rx = RXGate(t)\n",
    "x_eq = QuantumCircuit(1)\n",
    "x_eq.ry(pi/2, 0)\n",
    "x_eq.rz(t, 0)\n",
    "x_eq.ry(pi/2, 0)\n",
    "\n",
    "eq_lib.add_equivalence(rx, x_eq)\n",
    "\n",
    "# swap (also must have better form for this gateset)\n",
    "swap = SwapGate()\n",
    "swap_eq = QuantumCircuit(2)\n",
    "swap_eq.cx(0, 1)\n",
    "swap_eq.cx(1, 0)\n",
    "swap_eq.cx(0, 1)\n",
    "\n",
    "eq_lib.add_equivalence(swap, swap_eq)\n"
   ]
  },
  {
   "cell_type": "code",
   "execution_count": 41,
   "metadata": {},
   "outputs": [
    {
     "name": "stdout",
     "output_type": "stream",
     "text": [
      "                                       ┌────────┐┌───┐┌─────────┐┌───┐   »\n",
      "q_0: ────────────────────────────────■─┤ P(π/2) ├┤ X ├┤ Rz(π/2) ├┤ X ├─■─»\n",
      "     ┌────────┐┌───┐┌─────────┐┌───┐ │ ├────────┤├───┤├─────────┤├───┤ │ »\n",
      "q_1: ┤ P(π/2) ├┤ X ├┤ Rz(π/2) ├┤ X ├─■─┤ P(π/2) ├┤ X ├┤ Rz(π/2) ├┤ X ├─■─»\n",
      "     └────────┘└───┘└─────────┘└───┘   └────────┘└───┘└─────────┘└───┘   »\n",
      "«     ┌────────┐┌───┐┌─────────┐┌───┐                                  \n",
      "«q_0: ┤ P(π/2) ├┤ X ├┤ Rz(π/2) ├┤ X ├─■────────────────────────────────\n",
      "«     ├────────┤├───┤├─────────┤├───┤ │ ┌────────┐┌───┐┌─────────┐┌───┐\n",
      "«q_1: ┤ P(π/2) ├┤ X ├┤ Rz(π/2) ├┤ X ├─■─┤ P(π/2) ├┤ X ├┤ Rz(π/2) ├┤ X ├\n",
      "«     └────────┘└───┘└─────────┘└───┘   └────────┘└───┘└─────────┘└───┘\n"
     ]
    }
   ],
   "source": [
    "# testing new circuit\n",
    "\n",
    "circ = QuantumCircuit(2)\n",
    "# swap as cx\n",
    "circ.cx(0, 1)\n",
    "circ.cx(1, 0)\n",
    "circ.cx(0, 1)\n",
    "\n",
    "# transpile the circuit\n",
    "\n",
    "from qiskit.transpiler import PassManager\n",
    "from qiskit.transpiler.passes import BasisTranslator\n",
    "\n",
    "\n",
    "basis_gates = ['cz', 'x', 'rz', 'p']\n",
    "pm = PassManager()\n",
    "pm.append(BasisTranslator(eq_lib, basis_gates))\n",
    "\n",
    "# Step 5: Transpile the circuit\n",
    "transpiled_qc = pm.run(circ)\n",
    "\n",
    "# Draw the transpiled circuit\n",
    "print(transpiled_qc.draw())"
   ]
  },
  {
   "cell_type": "code",
   "execution_count": null,
   "metadata": {},
   "outputs": [],
   "source": []
  }
 ],
 "metadata": {
  "kernelspec": {
   "display_name": "qiskit_env",
   "language": "python",
   "name": "python3"
  },
  "language_info": {
   "codemirror_mode": {
    "name": "ipython",
    "version": 3
   },
   "file_extension": ".py",
   "mimetype": "text/x-python",
   "name": "python",
   "nbconvert_exporter": "python",
   "pygments_lexer": "ipython3",
   "version": "3.12.3"
  }
 },
 "nbformat": 4,
 "nbformat_minor": 2
}
